{
 "cells": [
  {
   "cell_type": "code",
   "execution_count": 1,
   "id": "2b02af1f",
   "metadata": {},
   "outputs": [],
   "source": [
    "import gensim.downloader as api"
   ]
  },
  {
   "cell_type": "markdown",
   "id": "0c3b8cb4",
   "metadata": {},
   "source": [
    "### Download embeddings"
   ]
  },
  {
   "cell_type": "code",
   "execution_count": 2,
   "id": "01ec5e2f",
   "metadata": {},
   "outputs": [
    {
     "name": "stdout",
     "output_type": "stream",
     "text": [
      "[==================================================] 100.0% 66.0/66.0MB downloaded\n"
     ]
    }
   ],
   "source": [
    "model = api.load(\"glove-wiki-gigaword-50\")"
   ]
  },
  {
   "cell_type": "markdown",
   "id": "87ea0938",
   "metadata": {},
   "source": [
    "### Exploring the embedding space\n",
    "#### Checking the Top 10 nearest neighbors of the word 'cat'"
   ]
  },
  {
   "cell_type": "code",
   "execution_count": null,
   "id": "903d7765",
   "metadata": {},
   "outputs": [],
   "source": [
    "top10_neighbors = model.most_similar([model['cat']], topn=11) # type: ignore"
   ]
  },
  {
   "cell_type": "code",
   "execution_count": 4,
   "id": "8d9efc98",
   "metadata": {},
   "outputs": [
    {
     "data": {
      "text/plain": [
       "[('cat', 1.0),\n",
       " ('dog', 0.9218004941940308),\n",
       " ('rabbit', 0.8487821221351624),\n",
       " ('monkey', 0.8041081428527832),\n",
       " ('rat', 0.7891963124275208),\n",
       " ('cats', 0.7865270972251892),\n",
       " ('snake', 0.7798910737037659),\n",
       " ('dogs', 0.7795814871788025),\n",
       " ('pet', 0.7792249917984009),\n",
       " ('mouse', 0.7731667757034302),\n",
       " ('bite', 0.7728800177574158)]"
      ]
     },
     "execution_count": 4,
     "metadata": {},
     "output_type": "execute_result"
    }
   ],
   "source": [
    "top10_neighbors"
   ]
  }
 ],
 "metadata": {
  "kernelspec": {
   "display_name": ".venv",
   "language": "python",
   "name": "python3"
  },
  "language_info": {
   "codemirror_mode": {
    "name": "ipython",
    "version": 3
   },
   "file_extension": ".py",
   "mimetype": "text/x-python",
   "name": "python",
   "nbconvert_exporter": "python",
   "pygments_lexer": "ipython3",
   "version": "3.12.7"
  }
 },
 "nbformat": 4,
 "nbformat_minor": 5
}
